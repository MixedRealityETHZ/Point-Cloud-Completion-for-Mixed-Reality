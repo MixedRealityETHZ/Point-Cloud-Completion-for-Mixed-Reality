{
 "cells": [
  {
   "cell_type": "code",
   "execution_count": null,
   "metadata": {},
   "outputs": [],
   "source": [
    "import os\n",
    "import numpy as np"
   ]
  },
  {
   "cell_type": "code",
   "execution_count": null,
   "metadata": {},
   "outputs": [],
   "source": [
    "def produce_latex_table(log_dir, output_file, method_name_list):\n",
    "    mode = ['easy', 'median', 'hard']\n",
    "    result_for_mode = []\n",
    "    # check log\n",
    "    for m in mode:\n",
    "        log_file_list = os.listdir(os.path.join(log_dir, m))\n",
    "        log_dict = {}\n",
    "        for file in log_file_list:\n",
    "            method_name = file[:-4]\n",
    "            log_dict[method_name] = {}\n",
    "            file_path = os.path.join(log_dir, m, file)\n",
    "            with open(file_path) as f:\n",
    "                lines = f.readlines()\n",
    "            for line in lines:\n",
    "                print(line.split('\\t'))\n",
    "                if method_name == 'Snowflake':\n",
    "                    try:\n",
    "                        info_head, number, Fscore, CD1, CD2, name, _ = line.split('\\t')\n",
    "                        log_dict[method_name][name.strip()] = [float(CD2), float(Fscore)]\n",
    "                    except:\n",
    "                        info_head, number, Fscore, CD1, CD2, name = line.split('\\t')\n",
    "                        log_dict[method_name][name.strip()] = [float(CD2), float(Fscore)]\n",
    "                else:   \n",
    "                    try:\n",
    "                        info_head, number, Fscore, CD1, CD2, EMD, name, _ = line.split('\\t')\n",
    "                        log_dict[method_name][name.strip()] = [float(CD2), float(Fscore)]\n",
    "                    except:\n",
    "                        info_head, number, Fscore, CD1, CD2, EMD, name = line.split('\\t')\n",
    "                        log_dict[method_name][name.strip()] = [float(CD2), float(Fscore)]\n",
    "        # print(log_dict)\n",
    "        method_name_list = method_name_list\n",
    "        model_id_list = sorted(list(log_dict[method_name_list[0]].keys()))\n",
    "\n",
    "        # output_file = 'PShapeNet55.txt'\n",
    "        result_list = []\n",
    "\n",
    "        for model_id in model_id_list:\n",
    "            this_model_result = []\n",
    "            for method in method_name_list:\n",
    "                this_model_result.append(log_dict[method][model_id])\n",
    "            result_list.append(this_model_result)\n",
    "        result = np.array(result_list)\n",
    "        # print(result.shape)\n",
    "        result_for_mode.append(result)\n",
    "\n",
    "    def convert_to_latex(array_list, skip_f1=False):\n",
    "        str = ''\n",
    "        \n",
    "        for model_id, model in enumerate(model_id_list):\n",
    "            str += f'{model}'\n",
    "            for method_id, method in enumerate(method_name_list):\n",
    "                for mode, array in enumerate(array_list):\n",
    "                    performance = array[model_id]\n",
    "                    best_cd_pos = performance[:, 0].argmin()\n",
    "                    best_f1_pos = performance[:, 1].argmax()\n",
    "                    # print(number)\n",
    "                    if method_id == best_cd_pos:\n",
    "                        str += '& \\\\textbf{' + f'{performance[method_id, 0]:.2f}' + '}'\n",
    "                    else:\n",
    "                        str += f'& {performance[method_id, 0]:.2f}'\n",
    "                    if not skip_f1:\n",
    "                        if method_id == best_f1_pos:\n",
    "                            str += '& \\\\textbf{' + f'{performance[method_id, 1]:.2f}' + '}'\n",
    "                        else:\n",
    "                            str += f'& {performance[method_id, 1]:.3f}'\n",
    "            str += '\\\\\\\\'\n",
    "            str += '\\n'\n",
    "        return str\n",
    "\n",
    "    result_latex = convert_to_latex(result_for_mode, skip_f1=True)\n",
    "    with open(output_file, 'w') as f:\n",
    "        f.write(result_latex)\n"
   ]
  },
  {
   "cell_type": "code",
   "execution_count": null,
   "metadata": {},
   "outputs": [],
   "source": [
    "produce_latex_table('./Log/ShapeNet55', 'ShapeNet55.txt', method_name_list=['Snowflake', 'AdaPoinTr'])\n",
    "# produce_latex_table('./Log/UnseenShapeNet21', 'UnseenShapeNet21.txt', method_name_list=['Snowflake', 'AdaPoinTr'])\n"
   ]
  },
  {
   "cell_type": "code",
   "execution_count": null,
   "metadata": {},
   "outputs": [],
   "source": []
  },
  {
   "cell_type": "code",
   "execution_count": null,
   "metadata": {},
   "outputs": [],
   "source": []
  },
  {
   "cell_type": "code",
   "execution_count": null,
   "metadata": {},
   "outputs": [],
   "source": [
    "\n",
    "    "
   ]
  }
 ],
 "metadata": {
  "kernelspec": {
   "display_name": "Python 3.6.12 ('py3.6')",
   "language": "python",
   "name": "python3"
  },
  "language_info": {
   "codemirror_mode": {
    "name": "ipython",
    "version": 3
   },
   "file_extension": ".py",
   "mimetype": "text/x-python",
   "name": "python",
   "nbconvert_exporter": "python",
   "pygments_lexer": "ipython3",
   "version": "3.6.12 |Anaconda, Inc.| (default, Sep  8 2020, 23:10:56) \n[GCC 7.3.0]"
  },
  "vscode": {
   "interpreter": {
    "hash": "af02d67d485a36b935acc704de376a8afe59fdcddcb6785b966cf8ccc4bbc388"
   }
  }
 },
 "nbformat": 4,
 "nbformat_minor": 4
}
